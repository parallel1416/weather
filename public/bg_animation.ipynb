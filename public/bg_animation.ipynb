{
 "cells": [
  {
   "cell_type": "code",
   "execution_count": 14,
   "metadata": {},
   "outputs": [],
   "source": [
    "from manim import *"
   ]
  },
  {
   "cell_type": "code",
   "execution_count": 38,
   "metadata": {},
   "outputs": [
    {
     "data": {
      "text/html": [
       "<video src=\"media\\jupyter\\Sunny@2023-08-05@15-50-42.mp4\" controls autoplay loop style=\"max-width: 60%;\"  >\n",
       "      Your browser does not support the <code>video</code> element.\n",
       "    </video>"
      ],
      "text/plain": [
       "<IPython.core.display.Video object>"
      ]
     },
     "metadata": {},
     "output_type": "display_data"
    }
   ],
   "source": [
    "class Sunny(Scene):\n",
    "\tdef construct(self):\n",
    "\t\tself.camera.background_color = WHITE\n",
    "\t\tsun = VGroup()\n",
    "\t\tsun += Circle(radius=1.2, color=YELLOW_A).set_fill(YELLOW_A, opacity=0.5)\n",
    "\t\tsun += Circle(radius=0.9, color=YELLOW_A).set_fill(YELLOW_D, opacity=0.6)\n",
    "\t\tsun += Circle(radius=0.5, color=ORANGE).set_fill(ORANGE, opacity=1.0)\n",
    "\t\tsun.move_to([3, 1.5, 0])\n",
    "\t\tself.play(GrowFromCenter(sun), subcaption_duration=3)\n",
    "\t\tself.wait(3)\n",
    "\n",
    "%manim -v WARNING -qh --disable_caching --progress_bar None Sunny"
   ]
  },
  {
   "cell_type": "code",
   "execution_count": 57,
   "metadata": {},
   "outputs": [
    {
     "data": {
      "text/html": [
       "<video src=\"media\\jupyter\\Cloudy@2023-08-05@16-08-51.mp4\" controls autoplay loop style=\"max-width: 60%;\"  >\n",
       "      Your browser does not support the <code>video</code> element.\n",
       "    </video>"
      ],
      "text/plain": [
       "<IPython.core.display.Video object>"
      ]
     },
     "metadata": {},
     "output_type": "display_data"
    }
   ],
   "source": [
    "class Cloudy(Scene):\n",
    "    def construct(self):\n",
    "        self.camera.background_color = WHITE\n",
    "        arc1= ArcBetweenPoints(start=[2,1,0], end=[-1,1,0], stroke_color=GRAY).set_fill(GRAY, opacity=0.2)\n",
    "        arc2= ArcBetweenPoints(start=[3,1,0], end=[2,1,0], stroke_color=GRAY).set_fill(GRAY, opacity=0.2)\n",
    "        line1 = Line(start=[-1,1,0], end=[3,1,0]).set_color(GRAY).set_fill(GRAY, opacity=0.2)\n",
    "        cloud_1 =VGroup(arc1, arc2, line1)\n",
    "\n",
    "        arc3= ArcBetweenPoints(start=[-0.5,2,0], end=[-3,2,0], stroke_color=GRAY).set_fill(GRAY, opacity=0.2)\n",
    "        arc4= ArcBetweenPoints(start=[0,2,0], end=[-0.5,2,0], stroke_color=GRAY).set_fill(GRAY, opacity=0.2)\n",
    "        line2 = Line(start=[0,2,0], end=[-3,2,0]).set_color(GRAY).set_fill(GRAY, opacity=0.2)\n",
    "        cloud_2 =VGroup(arc3, arc4, line2)\n",
    "\n",
    "        self.play(Create(cloud_1), Create(cloud_2))\n",
    "        self.wait(3)\n",
    "    \n",
    "%manim -v WARNING -qh --disable_caching --progress_bar None Cloudy"
   ]
  },
  {
   "cell_type": "code",
   "execution_count": null,
   "metadata": {},
   "outputs": [],
   "source": []
  }
 ],
 "metadata": {
  "kernelspec": {
   "display_name": "base",
   "language": "python",
   "name": "python3"
  },
  "language_info": {
   "codemirror_mode": {
    "name": "ipython",
    "version": 3
   },
   "file_extension": ".py",
   "mimetype": "text/x-python",
   "name": "python",
   "nbconvert_exporter": "python",
   "pygments_lexer": "ipython3",
   "version": "3.9.12"
  },
  "orig_nbformat": 4
 },
 "nbformat": 4,
 "nbformat_minor": 2
}
