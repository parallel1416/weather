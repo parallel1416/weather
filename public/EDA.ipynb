{
 "cells": [
  {
   "cell_type": "markdown",
   "metadata": {},
   "source": [
    "This notebook is for Exploratory Data Analysis to the weather data of Beijing from 2013 to 2023.\n",
    "Feel free to edit and update this notebook to share some insights.🧠"
   ]
  },
  {
   "cell_type": "code",
   "execution_count": 1,
   "metadata": {},
   "outputs": [],
   "source": [
    "import pandas as pd\n",
    "import matplotlib.pyplot as plt\n",
    "import numpy as np\n",
    "import datetime as dt\n",
    "import matplotlib.dates as mdates"
   ]
  },
  {
   "cell_type": "markdown",
   "metadata": {},
   "source": [
    "Some basic statistics of the numeric columns."
   ]
  },
  {
   "cell_type": "code",
   "execution_count": 2,
   "metadata": {},
   "outputs": [
    {
     "data": {
      "text/html": [
       "<div>\n",
       "<style scoped>\n",
       "    .dataframe tbody tr th:only-of-type {\n",
       "        vertical-align: middle;\n",
       "    }\n",
       "\n",
       "    .dataframe tbody tr th {\n",
       "        vertical-align: top;\n",
       "    }\n",
       "\n",
       "    .dataframe thead th {\n",
       "        text-align: right;\n",
       "    }\n",
       "</style>\n",
       "<table border=\"1\" class=\"dataframe\">\n",
       "  <thead>\n",
       "    <tr style=\"text-align: right;\">\n",
       "      <th></th>\n",
       "      <th>tempmax</th>\n",
       "      <th>tempmin</th>\n",
       "      <th>temp</th>\n",
       "      <th>feelslikemax</th>\n",
       "      <th>feelslikemin</th>\n",
       "      <th>feelslike</th>\n",
       "      <th>dew</th>\n",
       "      <th>humidity</th>\n",
       "      <th>precip</th>\n",
       "      <th>precipprob</th>\n",
       "      <th>...</th>\n",
       "      <th>windspeed</th>\n",
       "      <th>winddir</th>\n",
       "      <th>sealevelpressure</th>\n",
       "      <th>cloudcover</th>\n",
       "      <th>visibility</th>\n",
       "      <th>solarradiation</th>\n",
       "      <th>solarenergy</th>\n",
       "      <th>uvindex</th>\n",
       "      <th>severerisk</th>\n",
       "      <th>moonphase</th>\n",
       "    </tr>\n",
       "  </thead>\n",
       "  <tbody>\n",
       "    <tr>\n",
       "      <th>count</th>\n",
       "      <td>3867.000000</td>\n",
       "      <td>3867.000000</td>\n",
       "      <td>3867.000000</td>\n",
       "      <td>3867.000000</td>\n",
       "      <td>3867.000000</td>\n",
       "      <td>3867.000000</td>\n",
       "      <td>3867.000000</td>\n",
       "      <td>3867.000000</td>\n",
       "      <td>3867.000000</td>\n",
       "      <td>3867.000000</td>\n",
       "      <td>...</td>\n",
       "      <td>3867.000000</td>\n",
       "      <td>3867.000000</td>\n",
       "      <td>3866.000000</td>\n",
       "      <td>3867.000000</td>\n",
       "      <td>3867.000000</td>\n",
       "      <td>3867.000000</td>\n",
       "      <td>3867.000000</td>\n",
       "      <td>3867.000000</td>\n",
       "      <td>571.000000</td>\n",
       "      <td>3867.000000</td>\n",
       "    </tr>\n",
       "    <tr>\n",
       "      <th>mean</th>\n",
       "      <td>19.152625</td>\n",
       "      <td>7.310835</td>\n",
       "      <td>13.340678</td>\n",
       "      <td>18.923145</td>\n",
       "      <td>5.806594</td>\n",
       "      <td>12.601681</td>\n",
       "      <td>10.687949</td>\n",
       "      <td>53.865451</td>\n",
       "      <td>1.114341</td>\n",
       "      <td>17.817430</td>\n",
       "      <td>...</td>\n",
       "      <td>18.568011</td>\n",
       "      <td>175.873571</td>\n",
       "      <td>1016.584584</td>\n",
       "      <td>33.451720</td>\n",
       "      <td>8.870830</td>\n",
       "      <td>190.572847</td>\n",
       "      <td>16.454021</td>\n",
       "      <td>6.527541</td>\n",
       "      <td>11.900175</td>\n",
       "      <td>0.483085</td>\n",
       "    </tr>\n",
       "    <tr>\n",
       "      <th>std</th>\n",
       "      <td>11.476058</td>\n",
       "      <td>11.539349</td>\n",
       "      <td>11.302204</td>\n",
       "      <td>12.798192</td>\n",
       "      <td>13.224134</td>\n",
       "      <td>12.759347</td>\n",
       "      <td>22.729080</td>\n",
       "      <td>19.754334</td>\n",
       "      <td>6.663169</td>\n",
       "      <td>38.270889</td>\n",
       "      <td>...</td>\n",
       "      <td>9.687732</td>\n",
       "      <td>108.590224</td>\n",
       "      <td>10.399529</td>\n",
       "      <td>25.543833</td>\n",
       "      <td>3.929723</td>\n",
       "      <td>82.120636</td>\n",
       "      <td>7.099217</td>\n",
       "      <td>2.132316</td>\n",
       "      <td>8.085433</td>\n",
       "      <td>0.288705</td>\n",
       "    </tr>\n",
       "    <tr>\n",
       "      <th>min</th>\n",
       "      <td>-13.000000</td>\n",
       "      <td>-23.000000</td>\n",
       "      <td>-15.000000</td>\n",
       "      <td>-19.900000</td>\n",
       "      <td>-32.300000</td>\n",
       "      <td>-25.800000</td>\n",
       "      <td>-33.500000</td>\n",
       "      <td>7.400000</td>\n",
       "      <td>0.000000</td>\n",
       "      <td>0.000000</td>\n",
       "      <td>...</td>\n",
       "      <td>3.800000</td>\n",
       "      <td>0.200000</td>\n",
       "      <td>990.200000</td>\n",
       "      <td>0.000000</td>\n",
       "      <td>0.600000</td>\n",
       "      <td>6.100000</td>\n",
       "      <td>0.300000</td>\n",
       "      <td>0.000000</td>\n",
       "      <td>10.000000</td>\n",
       "      <td>0.000000</td>\n",
       "    </tr>\n",
       "    <tr>\n",
       "      <th>25%</th>\n",
       "      <td>9.000000</td>\n",
       "      <td>-3.000000</td>\n",
       "      <td>2.700000</td>\n",
       "      <td>7.600000</td>\n",
       "      <td>-6.000000</td>\n",
       "      <td>0.700000</td>\n",
       "      <td>-6.500000</td>\n",
       "      <td>38.400000</td>\n",
       "      <td>0.000000</td>\n",
       "      <td>0.000000</td>\n",
       "      <td>...</td>\n",
       "      <td>11.000000</td>\n",
       "      <td>92.000000</td>\n",
       "      <td>1007.600000</td>\n",
       "      <td>11.900000</td>\n",
       "      <td>6.400000</td>\n",
       "      <td>119.250000</td>\n",
       "      <td>10.300000</td>\n",
       "      <td>5.000000</td>\n",
       "      <td>10.000000</td>\n",
       "      <td>0.250000</td>\n",
       "    </tr>\n",
       "    <tr>\n",
       "      <th>50%</th>\n",
       "      <td>20.400000</td>\n",
       "      <td>8.000000</td>\n",
       "      <td>14.500000</td>\n",
       "      <td>20.400000</td>\n",
       "      <td>6.900000</td>\n",
       "      <td>14.400000</td>\n",
       "      <td>8.600000</td>\n",
       "      <td>53.400000</td>\n",
       "      <td>0.000000</td>\n",
       "      <td>0.000000</td>\n",
       "      <td>...</td>\n",
       "      <td>16.300000</td>\n",
       "      <td>160.100000</td>\n",
       "      <td>1016.700000</td>\n",
       "      <td>29.100000</td>\n",
       "      <td>8.300000</td>\n",
       "      <td>181.900000</td>\n",
       "      <td>15.700000</td>\n",
       "      <td>7.000000</td>\n",
       "      <td>10.000000</td>\n",
       "      <td>0.480000</td>\n",
       "    </tr>\n",
       "    <tr>\n",
       "      <th>75%</th>\n",
       "      <td>29.100000</td>\n",
       "      <td>18.000000</td>\n",
       "      <td>23.850000</td>\n",
       "      <td>29.400000</td>\n",
       "      <td>18.000000</td>\n",
       "      <td>23.800000</td>\n",
       "      <td>20.000000</td>\n",
       "      <td>69.950000</td>\n",
       "      <td>0.000000</td>\n",
       "      <td>0.000000</td>\n",
       "      <td>...</td>\n",
       "      <td>21.600000</td>\n",
       "      <td>292.950000</td>\n",
       "      <td>1025.000000</td>\n",
       "      <td>51.200000</td>\n",
       "      <td>11.100000</td>\n",
       "      <td>258.850000</td>\n",
       "      <td>22.400000</td>\n",
       "      <td>8.000000</td>\n",
       "      <td>10.000000</td>\n",
       "      <td>0.750000</td>\n",
       "    </tr>\n",
       "    <tr>\n",
       "      <th>max</th>\n",
       "      <td>42.000000</td>\n",
       "      <td>28.400000</td>\n",
       "      <td>33.000000</td>\n",
       "      <td>48.100000</td>\n",
       "      <td>33.600000</td>\n",
       "      <td>40.500000</td>\n",
       "      <td>81.100000</td>\n",
       "      <td>100.000000</td>\n",
       "      <td>254.000000</td>\n",
       "      <td>100.000000</td>\n",
       "      <td>...</td>\n",
       "      <td>84.500000</td>\n",
       "      <td>359.900000</td>\n",
       "      <td>1045.400000</td>\n",
       "      <td>100.000000</td>\n",
       "      <td>30.000000</td>\n",
       "      <td>362.500000</td>\n",
       "      <td>31.600000</td>\n",
       "      <td>10.000000</td>\n",
       "      <td>75.000000</td>\n",
       "      <td>0.980000</td>\n",
       "    </tr>\n",
       "  </tbody>\n",
       "</table>\n",
       "<p>8 rows × 24 columns</p>\n",
       "</div>"
      ],
      "text/plain": [
       "           tempmax      tempmin         temp  feelslikemax  feelslikemin  \\\n",
       "count  3867.000000  3867.000000  3867.000000   3867.000000   3867.000000   \n",
       "mean     19.152625     7.310835    13.340678     18.923145      5.806594   \n",
       "std      11.476058    11.539349    11.302204     12.798192     13.224134   \n",
       "min     -13.000000   -23.000000   -15.000000    -19.900000    -32.300000   \n",
       "25%       9.000000    -3.000000     2.700000      7.600000     -6.000000   \n",
       "50%      20.400000     8.000000    14.500000     20.400000      6.900000   \n",
       "75%      29.100000    18.000000    23.850000     29.400000     18.000000   \n",
       "max      42.000000    28.400000    33.000000     48.100000     33.600000   \n",
       "\n",
       "         feelslike          dew     humidity       precip   precipprob  ...  \\\n",
       "count  3867.000000  3867.000000  3867.000000  3867.000000  3867.000000  ...   \n",
       "mean     12.601681    10.687949    53.865451     1.114341    17.817430  ...   \n",
       "std      12.759347    22.729080    19.754334     6.663169    38.270889  ...   \n",
       "min     -25.800000   -33.500000     7.400000     0.000000     0.000000  ...   \n",
       "25%       0.700000    -6.500000    38.400000     0.000000     0.000000  ...   \n",
       "50%      14.400000     8.600000    53.400000     0.000000     0.000000  ...   \n",
       "75%      23.800000    20.000000    69.950000     0.000000     0.000000  ...   \n",
       "max      40.500000    81.100000   100.000000   254.000000   100.000000  ...   \n",
       "\n",
       "         windspeed      winddir  sealevelpressure   cloudcover   visibility  \\\n",
       "count  3867.000000  3867.000000       3866.000000  3867.000000  3867.000000   \n",
       "mean     18.568011   175.873571       1016.584584    33.451720     8.870830   \n",
       "std       9.687732   108.590224         10.399529    25.543833     3.929723   \n",
       "min       3.800000     0.200000        990.200000     0.000000     0.600000   \n",
       "25%      11.000000    92.000000       1007.600000    11.900000     6.400000   \n",
       "50%      16.300000   160.100000       1016.700000    29.100000     8.300000   \n",
       "75%      21.600000   292.950000       1025.000000    51.200000    11.100000   \n",
       "max      84.500000   359.900000       1045.400000   100.000000    30.000000   \n",
       "\n",
       "       solarradiation  solarenergy      uvindex  severerisk    moonphase  \n",
       "count     3867.000000  3867.000000  3867.000000  571.000000  3867.000000  \n",
       "mean       190.572847    16.454021     6.527541   11.900175     0.483085  \n",
       "std         82.120636     7.099217     2.132316    8.085433     0.288705  \n",
       "min          6.100000     0.300000     0.000000   10.000000     0.000000  \n",
       "25%        119.250000    10.300000     5.000000   10.000000     0.250000  \n",
       "50%        181.900000    15.700000     7.000000   10.000000     0.480000  \n",
       "75%        258.850000    22.400000     8.000000   10.000000     0.750000  \n",
       "max        362.500000    31.600000    10.000000   75.000000     0.980000  \n",
       "\n",
       "[8 rows x 24 columns]"
      ]
     },
     "execution_count": 2,
     "metadata": {},
     "output_type": "execute_result"
    }
   ],
   "source": [
    "df = pd.read_csv('./Beijing.csv')\n",
    "df.describe()"
   ]
  },
  {
   "cell_type": "markdown",
   "metadata": {},
   "source": [
    "There are 7 different icons in total, so we have to create 7 animations if we want to make some fancy things like Apple Weather.🌦️"
   ]
  },
  {
   "cell_type": "code",
   "execution_count": 3,
   "metadata": {},
   "outputs": [
    {
     "name": "stdout",
     "output_type": "stream",
     "text": [
      "['clear-day' 'partly-cloudy-day' 'snow' 'cloudy' 'rain' 'wind' 'fog']\n"
     ]
    }
   ],
   "source": [
    "icon = pd.Series(df['icon'])\n",
    "print(icon.unique())"
   ]
  },
  {
   "cell_type": "markdown",
   "metadata": {},
   "source": [
    "The figure below shows the temperature changes within Year 2013, just a sanity check that we are manipulating the right data.👌"
   ]
  },
  {
   "cell_type": "code",
   "execution_count": 4,
   "metadata": {},
   "outputs": [
    {
     "data": {
      "image/png": "[encoded data removed]",
      "text/plain": [
       "<Figure size 432x288 with 1 Axes>"
      ]
     },
     "metadata": {
      "needs_background": "light"
     },
     "output_type": "display_data"
    }
   ],
   "source": [
    "dates = df['datetime']\n",
    "dates_2013 = [dt.datetime.strptime(d,'%Y-%m-%d').date() for d in dates][0:365]\n",
    "temp_2013 = df['temp'][0:365]\n",
    "plt.gca().xaxis.set_major_formatter(mdates.DateFormatter('%Y-%m-%d'))\n",
    "plt.gca().xaxis.set_major_locator(mdates.MonthLocator())\n",
    "plt.plot(dates_2013, temp_2013)\n",
    "plt.gcf().autofmt_xdate()"
   ]
  },
  {
   "cell_type": "markdown",
   "metadata": {},
   "source": [
    "You can see the perfect periodic shape of the moonphase changes within a year.😂"
   ]
  },
  {
   "cell_type": "code",
   "execution_count": 5,
   "metadata": {},
   "outputs": [
    {
     "data": {
      "image/png": "[encoded data removed]",
      "text/plain": [
       "<Figure size 432x288 with 1 Axes>"
      ]
     },
     "metadata": {
      "needs_background": "light"
     },
     "output_type": "display_data"
    }
   ],
   "source": [
    "moonphase_2013 = df['moonphase'][0:365]\n",
    "plt.gca().xaxis.set_major_formatter(mdates.DateFormatter('%Y-%m-%d'))\n",
    "plt.gca().xaxis.set_major_locator(mdates.MonthLocator())\n",
    "plt.plot(dates_2013, moonphase_2013)\n",
    "plt.gcf().autofmt_xdate()"
   ]
  },
  {
   "cell_type": "markdown",
   "metadata": {},
   "source": [
    "The figure below shows the change in tempmax from 2013 to 2023."
   ]
  },
  {
   "cell_type": "code",
   "execution_count": 6,
   "metadata": {},
   "outputs": [
    {
     "data": {
      "image/png": "[encoded data removed]",
      "text/plain": [
       "<Figure size 432x288 with 1 Axes>"
      ]
     },
     "metadata": {
      "needs_background": "light"
     },
     "output_type": "display_data"
    }
   ],
   "source": [
    "year_temp_max = dict()\n",
    "for year in range(2013, 2024):\n",
    "    year_temp_max[year] = df[df['datetime'].str.match('{}'.format(year))].tempmax.max()\n",
    "plt.bar(*zip(*year_temp_max.items()))\n",
    "plt.show()"
   ]
  },
  {
   "cell_type": "markdown",
   "metadata": {},
   "source": [
    "The figure below shows the change in tempmin from 2013 to 2023."
   ]
  },
  {
   "cell_type": "code",
   "execution_count": 7,
   "metadata": {},
   "outputs": [
    {
     "data": {
      "image/png": "[encoded data removed]",
      "text/plain": [
       "<Figure size 432x288 with 1 Axes>"
      ]
     },
     "metadata": {
      "needs_background": "light"
     },
     "output_type": "display_data"
    }
   ],
   "source": [
    "year_temp_min = dict()\n",
    "for year in range(2013, 2024):\n",
    "    year_temp_min[year] = df[df['datetime'].str.match('{}'.format(year))].tempmin.min()\n",
    "plt.bar(*zip(*year_temp_min.items()))\n",
    "plt.show()"
   ]
  },
  {
   "cell_type": "markdown",
   "metadata": {},
   "source": [
    "This figure below shows the top THRESHOLD_RATIO of total # of extreme-weather days in 10 years."
   ]
  },
  {
   "cell_type": "code",
   "execution_count": 17,
   "metadata": {},
   "outputs": [
    {
     "data": {
      "image/png": "[encoded data removed]",
      "text/plain": [
       "<Figure size 432x288 with 1 Axes>"
      ]
     },
     "metadata": {
      "needs_background": "light"
     },
     "output_type": "display_data"
    }
   ],
   "source": [
    "THRESHOLD_RATIO = 0.1\n",
    "temp_max_df = df.sort_values(by='tempmax', ascending=False)\n",
    "sub_df = temp_max_df.head(int(len(temp_max_df) * THRESHOLD_RATIO))\n",
    "cnt = dict()\n",
    "for year in range(2013, 2024):\n",
    "    cnt[year] = len(sub_df[sub_df['datetime'].str.match('{}'.format(year))])\n",
    "plt.bar(*zip(*cnt.items()))\n",
    "plt.show()\n"
   ]
  }
 ],
 "metadata": {
  "kernelspec": {
   "display_name": "base",
   "language": "python",
   "name": "python3"
  },
  "language_info": {
   "codemirror_mode": {
    "name": "ipython",
    "version": 3
   },
   "file_extension": ".py",
   "mimetype": "text/x-python",
   "name": "python",
   "nbconvert_exporter": "python",
   "pygments_lexer": "ipython3",
   "version": "3.9.12"
  },
  "orig_nbformat": 4
 },
 "nbformat": 4,
 "nbformat_minor": 2
}
